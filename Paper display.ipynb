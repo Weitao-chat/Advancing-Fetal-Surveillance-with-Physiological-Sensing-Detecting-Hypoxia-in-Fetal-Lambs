{
 "cells": [
  {
   "cell_type": "code",
   "execution_count": 2,
   "id": "79ca9f1d-5ae0-490d-a457-77ef0267beda",
   "metadata": {},
   "outputs": [
    {
     "name": "stderr",
     "output_type": "stream",
     "text": [
      "ERROR: Could not find a version that satisfies the requirement ace_tools (from versions: none)\n",
      "ERROR: No matching distribution found for ace_tools\n"
     ]
    }
   ],
   "source": [
    "!pip install ace_tools"
   ]
  },
  {
   "cell_type": "code",
   "execution_count": 1,
   "id": "982a95a4-5a9f-4c5b-9b68-c294a8fc5095",
   "metadata": {},
   "outputs": [
    {
     "ename": "ModuleNotFoundError",
     "evalue": "No module named 'ace_tools'",
     "output_type": "error",
     "traceback": [
      "\u001b[1;31m---------------------------------------------------------------------------\u001b[0m",
      "\u001b[1;31mModuleNotFoundError\u001b[0m                       Traceback (most recent call last)",
      "Cell \u001b[1;32mIn[1], line 22\u001b[0m\n\u001b[0;32m     19\u001b[0m \u001b[38;5;66;03m# Create DataFrame\u001b[39;00m\n\u001b[0;32m     20\u001b[0m df \u001b[38;5;241m=\u001b[39m pd\u001b[38;5;241m.\u001b[39mDataFrame(data)\n\u001b[1;32m---> 22\u001b[0m \u001b[38;5;28;01mimport\u001b[39;00m \u001b[38;5;21;01mace_tools\u001b[39;00m \u001b[38;5;28;01mas\u001b[39;00m \u001b[38;5;21;01mtools\u001b[39;00m; tools\u001b[38;5;241m.\u001b[39mdisplay_dataframe_to_user(name\u001b[38;5;241m=\u001b[39m\u001b[38;5;124m\"\u001b[39m\u001b[38;5;124mUCO Sample Data\u001b[39m\u001b[38;5;124m\"\u001b[39m, dataframe\u001b[38;5;241m=\u001b[39mdf)\n\u001b[0;32m     24\u001b[0m df\n",
      "\u001b[1;31mModuleNotFoundError\u001b[0m: No module named 'ace_tools'"
     ]
    }
   ],
   "source": [
    "import pandas as pd\n",
    "\n",
    "data = {\n",
    "    \"Sample\": [\"20105\", \"21071\", \"21087\", \"21093\", \"20112A\", \"21122\", \"21133\", \"21165\", \"21173\", \"21203\", \"20244\", \"20252\", \"21044\", \"21051\", \"21126\", \"21200\"],\n",
    "    \"UCO Start Time\": [\"9/6 08:44:31.545254AM\", \"22/6 09:36:20.57771AM\", \"9/7 09:53:52.515596AM\", \"16/7 09:54:32.442703AM\", \"30/6 09:48:12.855028AM\", \"13/8 08:13:39.397183AM\", \"20/8 08:46:50.108576AM\", \"1/10 08:56:11.93617AM\", \"15/10 09:39:47.712436AM\", \"22/10 09:13:55.707725AM\", \"27/10 12:38:42.696468PM\", \"10/11 09:23:06.724592AM\", \"1/6 09:54:34.055758AM\", \"1/6 09:35:48.155181AM\", \"19/8 08:46:39.591762AM\", \"12/11 09:41:26.472337AM\"],\n",
    "    \"UCO End Time\": [\"9/6 08:54:53.395754AM\", \"22/6 09:46:40.42721AM\", \"9/7 10:06:13.465595AM\", \"16/7 10:06:45.492703AM\", \"30/6 09:58:19.355028AM\", \"13/8 08:25:21.047183AM\", \"20/8 08:58:22.308076AM\", \"1/10 09:06:18.23617AM\", \"15/10 09:50:21.312436AM\", \"22/10 09:24:05.357725AM\", \"27/10 12:51:07.646468PM\", \"10/11 09:34:56.624592AM\", \"1/6 10:09:31.555758AM\", \"1/6 09:47:53.155181AM\", \"19/8 08:57:51.591762AM\", \"12/11 09:50:40.622337AM\"]\n",
    "}\n",
    "\n",
    "# Calculate UCO durations\n",
    "def calculate_duration(start, end):\n",
    "    fmt = '%d/%m %I:%M:%S.%f%p'\n",
    "    start_dt = pd.to_datetime(start, format=fmt)\n",
    "    end_dt = pd.to_datetime(end, format=fmt)\n",
    "    duration = end_dt - start_dt\n",
    "    return duration\n",
    "\n",
    "data[\"UCO Duration\"] = [calculate_duration(start, end) for start, end in zip(data[\"UCO Start Time\"], data[\"UCO End Time\"])]\n",
    "\n",
    "# Create DataFrame\n",
    "df = pd.DataFrame(data)\n",
    "\n",
    "import ace_tools as tools; tools.display_dataframe_to_user(name=\"UCO Sample Data\", dataframe=df)\n",
    "\n",
    "df\n"
   ]
  }
 ],
 "metadata": {
  "kernelspec": {
   "display_name": "Python 3 (ipykernel)",
   "language": "python",
   "name": "python3"
  },
  "language_info": {
   "codemirror_mode": {
    "name": "ipython",
    "version": 3
   },
   "file_extension": ".py",
   "mimetype": "text/x-python",
   "name": "python",
   "nbconvert_exporter": "python",
   "pygments_lexer": "ipython3",
   "version": "3.10.13"
  }
 },
 "nbformat": 4,
 "nbformat_minor": 5
}
