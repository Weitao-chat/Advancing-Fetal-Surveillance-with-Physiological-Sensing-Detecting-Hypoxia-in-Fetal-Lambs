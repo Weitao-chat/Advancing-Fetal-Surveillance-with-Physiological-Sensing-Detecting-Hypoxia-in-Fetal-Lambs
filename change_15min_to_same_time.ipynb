{
 "cells": [
  {
   "cell_type": "code",
   "execution_count": 5,
   "id": "9e3ab52e-60f2-44e2-b1ea-4d979d109719",
   "metadata": {},
   "outputs": [],
   "source": [
    "import os\n",
    "import pandas as pd"
   ]
  },
  {
   "cell_type": "code",
   "execution_count": 6,
   "id": "ed5f2f82-0de0-4aa5-8efb-5b115b9b8010",
   "metadata": {},
   "outputs": [],
   "source": [
    "# Function to filter the DataFrame\n",
    "def filter_dataframe(df):\n",
    "    # Count the number of labels\n",
    "    label_counts = df['label'].value_counts()\n",
    "    if 0 not in label_counts:\n",
    "        return df  # No label 0, return as is\n",
    "\n",
    "    zero_count = label_counts[0]\n",
    "\n",
    "    # Find the indices for labels -1 and 1\n",
    "    indices_minus1 = df[df['label'] == -1].index\n",
    "    indices_1 = df[df['label'] == 1].index\n",
    "\n",
    "    # Calculate how many rows to remove\n",
    "    if len(indices_minus1) > zero_count:\n",
    "        remove_indices_minus1 = indices_minus1[:len(indices_minus1) - zero_count]\n",
    "    else:\n",
    "        remove_indices_minus1 = []\n",
    "\n",
    "    if len(indices_1) > zero_count:\n",
    "        remove_indices_1 = indices_1[zero_count:]\n",
    "    else:\n",
    "        remove_indices_1 = []\n",
    "\n",
    "    # Drop the rows\n",
    "    df_filtered = df.drop(remove_indices_minus1).drop(remove_indices_1)\n",
    "    \n",
    "    return df_filtered"
   ]
  },
  {
   "cell_type": "code",
   "execution_count": 7,
   "id": "c4ad31ab-9649-4c1d-8fb9-fd60a9abfdb7",
   "metadata": {},
   "outputs": [],
   "source": [
    "# Define the base directory\n",
    "base_dir = \"E:\\\\IEEE Sensor\\\\IEEE Sensor Xlsx Data\"\n",
    "sub_dirs = [\"ECG_handled\", \"EEG_handled\", \"EMG_handled\"]"
   ]
  },
  {
   "cell_type": "code",
   "execution_count": 10,
   "id": "ace8dcfb-bd01-4bae-bbe1-6e7c549ab995",
   "metadata": {},
   "outputs": [
    {
     "name": "stdout",
     "output_type": "stream",
     "text": [
      "BadZipFile error: E:\\IEEE Sensor\\IEEE Sensor Xlsx Data\\EEG_handled\\21087_handled\\~$Clean Data Channel 1_CUsersvhor0002DownloadsCODE BACK UP-20240215T015228Z-001CODE BACK UPRaw Data2108721087_8-07-2021 11_00_28.8 PM_ UCO at 953AM.xlsx is not a valid zip file.\n",
      "Processing complete.\n"
     ]
    }
   ],
   "source": [
    "import os\n",
    "import pandas as pd\n",
    "from openpyxl import load_workbook\n",
    "from zipfile import BadZipFile\n",
    "\n",
    "# Define the base directory\n",
    "base_dir = \"E:\\\\IEEE Sensor\\\\IEEE Sensor Xlsx Data\"\n",
    "sub_dirs = [\"ECG_handled\", \"EEG_handled\", \"EMG_handled\"]\n",
    "\n",
    "# Function to filter the DataFrame\n",
    "def filter_dataframe(df):\n",
    "    # Count the number of labels\n",
    "    label_counts = df['label'].value_counts()\n",
    "    if 0 not in label_counts:\n",
    "        return df  # No label 0, return as is\n",
    "\n",
    "    zero_count = label_counts[0]\n",
    "\n",
    "    # Find the indices for labels -1 and 1\n",
    "    indices_minus1 = df[df['label'] == -1].index\n",
    "    indices_1 = df[df['label'] == 1].index\n",
    "\n",
    "    # Calculate how many rows to remove\n",
    "    if len(indices_minus1) > zero_count:\n",
    "        remove_indices_minus1 = indices_minus1[:len(indices_minus1) - zero_count]\n",
    "    else:\n",
    "        remove_indices_minus1 = []\n",
    "\n",
    "    if len(indices_1) > zero_count:\n",
    "        remove_indices_1 = indices_1[zero_count:]\n",
    "    else:\n",
    "        remove_indices_1 = []\n",
    "\n",
    "    # Drop the rows\n",
    "    df_filtered = df.drop(remove_indices_minus1).drop(remove_indices_1)\n",
    "    \n",
    "    return df_filtered\n",
    "\n",
    "# Iterate over each sub-directory\n",
    "for sub_dir in sub_dirs:\n",
    "    sub_dir_path = os.path.join(base_dir, sub_dir)\n",
    "    \n",
    "    # Iterate over each folder in the sub-directory\n",
    "    for folder_name in os.listdir(sub_dir_path):\n",
    "        folder_path = os.path.join(sub_dir_path, folder_name)\n",
    "        \n",
    "        # Check if it is a directory\n",
    "        if os.path.isdir(folder_path):\n",
    "            # Find the xlsx file in the directory\n",
    "            for file_name in os.listdir(folder_path):\n",
    "                if file_name.endswith(\".xlsx\"):\n",
    "                    file_path = os.path.join(folder_path, file_name)\n",
    "                    \n",
    "                    try:\n",
    "                        # Read the Excel file with engine specified\n",
    "                        df = pd.read_excel(file_path, engine='openpyxl')\n",
    "                        \n",
    "                        # Filter the DataFrame\n",
    "                        df_filtered = filter_dataframe(df)\n",
    "                        \n",
    "                        # Save the filtered DataFrame back to the Excel file\n",
    "                        df_filtered.to_excel(file_path, index=False)\n",
    "                    \n",
    "                    except BadZipFile:\n",
    "                        print(f\"BadZipFile error: {file_path} is not a valid zip file.\")\n",
    "                    except Exception as e:\n",
    "                        print(f\"An error occurred with file {file_path}: {e}\")\n",
    "\n",
    "print(\"Processing complete.\")\n"
   ]
  }
 ],
 "metadata": {
  "kernelspec": {
   "display_name": "Python 3 (ipykernel)",
   "language": "python",
   "name": "python3"
  },
  "language_info": {
   "codemirror_mode": {
    "name": "ipython",
    "version": 3
   },
   "file_extension": ".py",
   "mimetype": "text/x-python",
   "name": "python",
   "nbconvert_exporter": "python",
   "pygments_lexer": "ipython3",
   "version": "3.10.13"
  }
 },
 "nbformat": 4,
 "nbformat_minor": 5
}
